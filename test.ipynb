{
 "cells": [
  {
   "cell_type": "code",
   "execution_count": 74,
   "id": "e9ee88a5",
   "metadata": {},
   "outputs": [],
   "source": [
    "import json\n",
    "import os\n",
    "import re"
   ]
  },
  {
   "cell_type": "code",
   "execution_count": 75,
   "id": "c3d561fb",
   "metadata": {},
   "outputs": [],
   "source": [
    "filename = \"custom/邪术师-武术家-恐惧领域卡包.json\"\n",
    "with open(filename, \"r\", encoding=\"utf-8\") as f:\n",
    "    data = json.load(f)\n",
    "\n",
    "domain = []\n",
    "main_class = []\n",
    "sub_class = []\n",
    "other =  []\n",
    "\n",
    "# 函数: 去除 r\"\\*\\*(能力|法术|施法|陷阱)(一|-)回想(-|\\d)\\*\\*\\\\n\\\\n\"\n",
    "def remove_recall(text):\n",
    "    return re.sub(r\"\\*\\*(能力|法术|施法|陷阱)(一|-)回想(-|\\d)\\*\\*\\n\\n\", \"\", text)\n",
    "\n",
    "for k, v in data.items():\n",
    "    if k == \"domain\":\n",
    "        for c in data[\"domain\"]:\n",
    "            domain.append({\n",
    "                \"名称\": c[\"名称\"],\n",
    "                \"类型\": \"领域卡\",\n",
    "                \"领域\": c[\"领域\"],\n",
    "                \"等级\": c[\"等级\"],\n",
    "                \"属性\": c[\"属性\"],\n",
    "                \"回想\": c[\"回想\"],\n",
    "                \"描述\": remove_recall(c[\"描述\"]),\n",
    "            })\n",
    "    elif k == \"subclass\":\n",
    "        for c in data[\"subclass\"]:\n",
    "            sub_class.append({\n",
    "                \"名称\": c[\"子职业\"],\n",
    "                \"类型\": \"子职\",\n",
    "                \"主职\": c[\"主职\"],\n",
    "                \"等级\": c[\"等级\"].replace(\"基石\", \"基础\").replace(\"专精\", \"进阶\").replace(\"大师\", \"精通\"),\n",
    "                \"施法属性\": c[\"施法\"],\n",
    "                \"描述\": c[\"描述\"],\n",
    "            })\n",
    "    elif k == \"profession\":\n",
    "        for c in data[\"profession\"]:\n",
    "            main_class.append({\n",
    "                \"名称\": c[\"名称\"],\n",
    "                \"类型\": \"主职\",\n",
    "                \"领域\": c[\"领域1\"]+\"+\"+c[\"领域2\"],\n",
    "                \"初始生命点\": c[\"起始生命\"],\n",
    "                \"初始闪避值\": c[\"起始闪避\"],\n",
    "                \"希望特性\": c[\"希望特性\"],\n",
    "                \"职业特性\": c[\"职业特性\"],\n",
    "                \"描述\": '',\n",
    "            })\n",
    "    else:\n",
    "        for c in data[k]:\n",
    "            if \"名称\" in c:\n",
    "                c.pop(\"id\", None)\n",
    "                c.pop(\"简略信息\", None)\n",
    "                other.append(c)\n",
    "        \n"
   ]
  },
  {
   "cell_type": "code",
   "execution_count": 77,
   "id": "31ad049d",
   "metadata": {},
   "outputs": [],
   "source": [
    "with open(filename+\".json\", \"w\", encoding=\"utf-8\") as f:\n",
    "    json.dump(domain+main_class+sub_class+other, f, ensure_ascii=False, indent=4)"
   ]
  }
 ],
 "metadata": {
  "kernelspec": {
   "display_name": "Python 3",
   "language": "python",
   "name": "python3"
  },
  "language_info": {
   "codemirror_mode": {
    "name": "ipython",
    "version": 3
   },
   "file_extension": ".py",
   "mimetype": "text/x-python",
   "name": "python",
   "nbconvert_exporter": "python",
   "pygments_lexer": "ipython3",
   "version": "3.10.8"
  }
 },
 "nbformat": 4,
 "nbformat_minor": 5
}
